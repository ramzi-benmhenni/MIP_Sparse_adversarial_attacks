{
 "cells": [
  {
   "cell_type": "code",
   "execution_count": 1,
   "id": "3500ed6c-4a0c-4009-a28d-f17423b32109",
   "metadata": {
    "tags": []
   },
   "outputs": [
    {
     "name": "stdout",
     "output_type": "stream",
     "text": [
      "Collecting jupytext\n",
      "  Downloading jupytext-1.14.4-py3-none-any.whl (298 kB)\n",
      "\u001b[2K     \u001b[90m━━━━━━━━━━━━━━━━━━━━━━━━━━━━━━━━━━━━━━\u001b[0m \u001b[32m298.2/298.2 kB\u001b[0m \u001b[31m13.9 MB/s\u001b[0m eta \u001b[36m0:00:00\u001b[0m\n",
      "\u001b[?25hCollecting toml\n",
      "  Downloading toml-0.10.2-py2.py3-none-any.whl (16 kB)\n",
      "Requirement already satisfied: nbformat in /home/ramzi.ben-mhenni/venvpython3.7/lib/python3.7/site-packages (from jupytext) (5.7.3)\n",
      "Collecting markdown-it-py<3.0.0,>=1.0.0\n",
      "  Downloading markdown_it_py-2.1.0-py3-none-any.whl (84 kB)\n",
      "\u001b[2K     \u001b[90m━━━━━━━━━━━━━━━━━━━━━━━━━━━━━━━━━━━━━━━━\u001b[0m \u001b[32m84.5/84.5 kB\u001b[0m \u001b[31m24.3 MB/s\u001b[0m eta \u001b[36m0:00:00\u001b[0m\n",
      "\u001b[?25hRequirement already satisfied: pyyaml in /home/ramzi.ben-mhenni/venvpython3.7/lib/python3.7/site-packages (from jupytext) (6.0)\n",
      "Collecting mdit-py-plugins\n",
      "  Downloading mdit_py_plugins-0.3.3-py3-none-any.whl (50 kB)\n",
      "\u001b[2K     \u001b[90m━━━━━━━━━━━━━━━━━━━━━━━━━━━━━━━━━━━━━━━━\u001b[0m \u001b[32m50.5/50.5 kB\u001b[0m \u001b[31m13.3 MB/s\u001b[0m eta \u001b[36m0:00:00\u001b[0m\n",
      "\u001b[?25hCollecting mdurl~=0.1\n",
      "  Downloading mdurl-0.1.2-py3-none-any.whl (10.0 kB)\n",
      "Requirement already satisfied: typing_extensions>=3.7.4 in /home/ramzi.ben-mhenni/venvpython3.7/lib/python3.7/site-packages (from markdown-it-py<3.0.0,>=1.0.0->jupytext) (4.4.0)\n",
      "Requirement already satisfied: jsonschema>=2.6 in /home/ramzi.ben-mhenni/venvpython3.7/lib/python3.7/site-packages (from nbformat->jupytext) (4.17.3)\n",
      "Requirement already satisfied: importlib-metadata>=3.6 in /home/ramzi.ben-mhenni/venvpython3.7/lib/python3.7/site-packages (from nbformat->jupytext) (4.10.1)\n",
      "Requirement already satisfied: fastjsonschema in /home/ramzi.ben-mhenni/venvpython3.7/lib/python3.7/site-packages (from nbformat->jupytext) (2.16.2)\n",
      "Requirement already satisfied: jupyter-core in /home/ramzi.ben-mhenni/venvpython3.7/lib/python3.7/site-packages (from nbformat->jupytext) (4.12.0)\n",
      "Requirement already satisfied: traitlets>=5.1 in /home/ramzi.ben-mhenni/venvpython3.7/lib/python3.7/site-packages (from nbformat->jupytext) (5.1.1)\n",
      "Requirement already satisfied: zipp>=0.5 in /home/ramzi.ben-mhenni/venvpython3.7/lib/python3.7/site-packages (from importlib-metadata>=3.6->nbformat->jupytext) (3.7.0)\n",
      "Requirement already satisfied: pyrsistent!=0.17.0,!=0.17.1,!=0.17.2,>=0.14.0 in /home/ramzi.ben-mhenni/venvpython3.7/lib/python3.7/site-packages (from jsonschema>=2.6->nbformat->jupytext) (0.18.1)\n",
      "Requirement already satisfied: pkgutil-resolve-name>=1.3.10 in /home/ramzi.ben-mhenni/venvpython3.7/lib/python3.7/site-packages (from jsonschema>=2.6->nbformat->jupytext) (1.3.10)\n",
      "Requirement already satisfied: attrs>=17.4.0 in /home/ramzi.ben-mhenni/venvpython3.7/lib/python3.7/site-packages (from jsonschema>=2.6->nbformat->jupytext) (21.4.0)\n",
      "Requirement already satisfied: importlib-resources>=1.4.0 in /home/ramzi.ben-mhenni/venvpython3.7/lib/python3.7/site-packages (from jsonschema>=2.6->nbformat->jupytext) (5.4.0)\n",
      "Installing collected packages: toml, mdurl, markdown-it-py, mdit-py-plugins, jupytext\n",
      "Successfully installed jupytext-1.14.4 markdown-it-py-2.1.0 mdit-py-plugins-0.3.3 mdurl-0.1.2 toml-0.10.2\n",
      "Note: you may need to restart the kernel to use updated packages.\n"
     ]
    }
   ],
   "source": [
    "%pip install jupytext"
   ]
  },
  {
   "cell_type": "code",
   "execution_count": 2,
   "id": "3d772106-8785-4319-8288-aade00a64b77",
   "metadata": {
    "tags": []
   },
   "outputs": [
    {
     "name": "stdout",
     "output_type": "stream",
     "text": [
      "[jupytext] Reading ai_milp.py in format py\n",
      "[jupytext] Writing ai_milp.ipynb\n"
     ]
    }
   ],
   "source": [
    "!jupytext --to notebook ai_milp.py"
   ]
  },
  {
   "cell_type": "code",
   "execution_count": null,
   "id": "41f4723e-5d0f-4f7f-b59e-e01564b283ee",
   "metadata": {},
   "outputs": [],
   "source": []
  }
 ],
 "metadata": {
  "kernelspec": {
   "display_name": "Python 3 (ipykernel)",
   "language": "python",
   "name": "python3"
  },
  "language_info": {
   "codemirror_mode": {
    "name": "ipython",
    "version": 3
   },
   "file_extension": ".py",
   "mimetype": "text/x-python",
   "name": "python",
   "nbconvert_exporter": "python",
   "pygments_lexer": "ipython3",
   "version": "3.7.16"
  }
 },
 "nbformat": 4,
 "nbformat_minor": 5
}
