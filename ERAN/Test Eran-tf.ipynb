{
 "cells": [
  {
   "cell_type": "markdown",
   "id": "4970d171",
   "metadata": {},
   "source": [
    "## Ceci est un Test pour Trduire ONNX to MIP"
   ]
  },
  {
   "cell_type": "code",
   "execution_count": 1,
   "id": "e18443f1",
   "metadata": {},
   "outputs": [
    {
     "name": "stderr",
     "output_type": "stream",
     "text": [
      "2023-01-18 09:43:44.858083: W tensorflow/stream_executor/platform/default/dso_loader.cc:64] Could not load dynamic library 'libcudart.so.11.0'; dlerror: libcudart.so.11.0: cannot open shared object file: No such file or directory; LD_LIBRARY_PATH: :/opt/gurobi952/linux64/lib\n",
      "2023-01-18 09:43:44.858140: I tensorflow/stream_executor/cuda/cudart_stub.cc:29] Ignore above cudart dlerror if you do not have a GPU set up on your machine.\n"
     ]
    },
    {
     "name": "stdout",
     "output_type": "stream",
     "text": [
      "WARNING:tensorflow:From /home/ramzi.ben-mhenni/venvpython3.7/lib/python3.7/site-packages/tensorflow/python/compat/v2_compat.py:107: disable_resource_variables (from tensorflow.python.ops.variable_scope) is deprecated and will be removed in a future version.\n",
      "Instructions for updating:\n",
      "non-resource variables are not supported in the long term\n"
     ]
    },
    {
     "name": "stderr",
     "output_type": "stream",
     "text": [
      "2023-01-18 09:43:46.604242: I tensorflow/core/platform/cpu_feature_guard.cc:151] This TensorFlow binary is optimized with oneAPI Deep Neural Network Library (oneDNN) to use the following CPU instructions in performance-critical operations:  AVX2 FMA\n",
      "To enable them in other operations, rebuild TensorFlow with the appropriate compiler flags.\n",
      "2023-01-18 09:43:46.606883: W tensorflow/stream_executor/platform/default/dso_loader.cc:64] Could not load dynamic library 'libcuda.so.1'; dlerror: libcuda.so.1: cannot open shared object file: No such file or directory; LD_LIBRARY_PATH: :/opt/gurobi952/linux64/lib\n",
      "2023-01-18 09:43:46.606930: W tensorflow/stream_executor/cuda/cuda_driver.cc:269] failed call to cuInit: UNKNOWN ERROR (303)\n",
      "2023-01-18 09:43:46.606971: I tensorflow/stream_executor/cuda/cuda_diagnostics.cc:156] kernel driver does not appear to be running on this host (calcul-02): /proc/driver/nvidia/version does not exist\n",
      "/home/ramzi.ben-mhenni/eran/tf_verify/optimizer.py:26: UserWarning: gpupoly not available.\n",
      "  warnings.warn(\"gpupoly not available.\")\n"
     ]
    }
   ],
   "source": [
    "import torch\n",
    "import sys\n",
    "import csv\n",
    "\n",
    "sys.path.insert(0, '../ELINA/python_interface/')\n",
    "\n",
    "from tensorflow_translator import *\n",
    "from onnx_translator import *\n",
    "from read_net_file   import *\n",
    "\n",
    "from analyzer  import *\n",
    "from optimizer import *\n",
    "\n",
    "import tensorflow as tf\n",
    "import tensorflow.compat.v1 as tf\n",
    "tf.disable_v2_behavior()"
   ]
  },
  {
   "cell_type": "code",
   "execution_count": 2,
   "id": "426807b0",
   "metadata": {},
   "outputs": [],
   "source": [
    "dataset = 'cifar10'\n",
    "\n",
    "class_names = ['airplane', 'automobile', 'bird', 'cat', 'deer', 'dog', 'frog', 'horse', 'ship', 'truck']\n",
    "\n",
    "if dataset in ['mnist', 'fashion']:\n",
    "    height, width, channels = 28, 28, 1\n",
    "else:\n",
    "    height, width, channels = 32, 32, 3\n",
    "\n",
    "num_pixels = height * width * channels"
   ]
  },
  {
   "cell_type": "code",
   "execution_count": 3,
   "id": "de92a2e1",
   "metadata": {},
   "outputs": [
    {
     "name": "stdout",
     "output_type": "stream",
     "text": [
      "ReLU\n",
      "\tOutShape:  (1, 100)\n",
      "\tWShape:  (3072, 100)\n",
      "\tBShape:  (100,)\n",
      "ReLU\n",
      "\tOutShape:  (1, 100)\n",
      "\tWShape:  (100, 100)\n",
      "\tBShape:  (100,)\n",
      "ReLU\n",
      "\tOutShape:  (1, 100)\n",
      "\tWShape:  (100, 100)\n",
      "\tBShape:  (100,)\n",
      "ReLU\n",
      "\tOutShape:  (1, 100)\n",
      "\tWShape:  (100, 100)\n",
      "\tBShape:  (100,)\n",
      "ReLU\n",
      "\tOutShape:  (1, 10)\n",
      "\tWShape:  (100, 10)\n",
      "\tBShape:  (10,)\n",
      "WARNING:tensorflow:From /home/ramzi.ben-mhenni/eran/tf_verify/tensorflow_translator.py:127: convert_variables_to_constants (from tensorflow.python.framework.graph_util_impl) is deprecated and will be removed in a future version.\n",
      "Instructions for updating:\n",
      "Use `tf.compat.v1.graph_util.convert_variables_to_constants`\n",
      "WARNING:tensorflow:From /home/ramzi.ben-mhenni/venvpython3.7/lib/python3.7/site-packages/tensorflow/python/framework/convert_to_constants.py:925: extract_sub_graph (from tensorflow.python.framework.graph_util_impl) is deprecated and will be removed in a future version.\n",
      "Instructions for updating:\n",
      "Use `tf.compat.v1.graph_util.extract_sub_graph`\n",
      "WARNING:tensorflow:From /home/ramzi.ben-mhenni/eran/tf_verify/tensorflow_translator.py:128: remove_training_nodes (from tensorflow.python.framework.graph_util_impl) is deprecated and will be removed in a future version.\n",
      "Instructions for updating:\n",
      "Use `tf.compat.v1.graph_util.remove_training_nodes`\n"
     ]
    }
   ],
   "source": [
    "is_onnx = False\n",
    "is_trained_with_pytorch = False\n",
    "is_gpupoly = False\n",
    "\n",
    "\n",
    "if is_onnx:\n",
    "    net_file = \"cifar_mlp.onnx\"\n",
    "    model, is_conv = read_onnx_net(net_file)\n",
    "    translator = ONNXTranslator(model, True)\n",
    "else:\n",
    "    net_file =\"/home/ramzi.ben-mhenni/eran/data/model/convSmallRELU__Point.pyt\"\n",
    "    net_file =\"/home/ramzi.ben-mhenni/eran/data/model/cifar_relu_6_100.tf\"\n",
    "    net_file =\"/home/ramzi.ben-mhenni/eran/data/model/cifar_relu_4_100.tf\"    \n",
    "    \n",
    "    model, is_conv, mean, std = read_tensorflow_net(net_file, num_pixels, is_trained_with_pytorch, is_gpupoly)\n",
    "    translator = TFTranslator(model, None)\n"
   ]
  },
  {
   "cell_type": "code",
   "execution_count": 4,
   "id": "632d3190",
   "metadata": {},
   "outputs": [],
   "source": [
    "operations, resources = translator.translate()\n",
    "optimizer = Optimizer(operations, resources)"
   ]
  },
  {
   "cell_type": "code",
   "execution_count": 7,
   "id": "b02edcb8",
   "metadata": {},
   "outputs": [
    {
     "name": "stdout",
     "output_type": "stream",
     "text": [
      "Image_label : \n",
      "8\n"
     ]
    },
    {
     "name": "stderr",
     "output_type": "stream",
     "text": [
      "/home/ramzi.ben-mhenni/venvpython3.7/lib/python3.7/site-packages/ipykernel_launcher.py:17: DeprecationWarning: `np.int` is a deprecated alias for the builtin `int`. To silence this warning, use `int` by itself. Doing this will not modify any behavior and is safe. When replacing `np.int`, you may wish to use e.g. `np.int64` or `np.int32` to specify the precision. If you wish to review your current use, check the release note link for additional information.\n",
      "Deprecated in NumPy 1.20; for more details and guidance: https://numpy.org/devdocs/release/1.20.0-notes.html#deprecations\n"
     ]
    }
   ],
   "source": [
    "filename = '../data/'+ dataset+ '_test.csv'\n",
    "csvfile = open(filename, 'r')\n",
    "tests = csv.reader(csvfile, delimiter=',')\n",
    "\n",
    "test = next(tests)\n",
    "test = next(tests)\n",
    "test = next(tests)\n",
    "\n",
    "image = torch.from_numpy(np.float64(test[1:len(test)]) / np.float64(255)).reshape(1, height, width, channels).permute(0, 3, 1, 2).to('cpu')\n",
    "#image = torch.from_numpy(np.float64(test[1:len(test)]) / np.float64(255))\n",
    "\n",
    "\n",
    "#input_v = np.array(test_input, dtype=np.float32).reshape([1, 32, 32, 3])\n",
    "image_v = image.clone().permute(0, 2, 3, 1).flatten().cpu()\n",
    "#image_v = image.clone().flatten().cpu()\n",
    "\n",
    "label = np.int(test[0])\n",
    "\n",
    "# Printing output\n",
    "print(\"Image_label : \")\n",
    "print(label)"
   ]
  },
  {
   "cell_type": "code",
   "execution_count": 8,
   "id": "f906a3b5",
   "metadata": {
    "scrolled": true
   },
   "outputs": [
    {
     "name": "stderr",
     "output_type": "stream",
     "text": [
      "Clipping input data to the valid range for imshow with RGB data ([0..1] for floats or [0..255] for integers).\n"
     ]
    },
    {
     "data": {
      "image/png": "[encoded data removed]",
      "text/plain": [
       "<Figure size 720x576 with 2 Axes>"
      ]
     },
     "metadata": {
      "needs_background": "light"
     },
     "output_type": "display_data"
    }
   ],
   "source": [
    "import matplotlib.pyplot as plt\n",
    "import torchvision\n",
    "\n",
    "def imshow(img, fig):\n",
    "    img = img \n",
    "    npimg = img.numpy()\n",
    "    fig.imshow(np.transpose(npimg, (1, 2, 0)))\n",
    "    \n",
    "def plot_attack_pred(original, attack):\n",
    "    # show image and noise\n",
    "    ax, fig = plt.subplots(nrows=1,ncols=2, figsize=(10,8))\n",
    "    fig[0].set_title(\"Attack\")\n",
    "    imshow(torchvision.utils.make_grid(attack), fig[0])\n",
    "    noise = (original - attack).detach()\n",
    "    fig[1].set_title(\"Noise added to original image\")\n",
    "    imshow(10*torchvision.utils.make_grid(noise), fig[1])\n",
    "    plt.show()\n",
    "\n",
    "def plot_image_pred(img,name):\n",
    "    # show image and noise\n",
    "    ax, fig = plt.subplots(nrows=1,ncols=2, figsize=(10,8))\n",
    "    fig[0].set_title(\"Original\")\n",
    "    plt.xlabel(name)\n",
    "    imshow(torchvision.utils.make_grid(img), fig[0])\n",
    "    noise = (img - img + 1).detach()\n",
    "    fig[1].set_title(\"No Noise\")\n",
    "    imshow(10*torchvision.utils.make_grid(noise), fig[1])\n",
    "    plt.show()\n",
    "\n",
    "\n",
    "plot_image_pred(image,class_names[label])"
   ]
  },
  {
   "cell_type": "code",
   "execution_count": 9,
   "id": "78c12255",
   "metadata": {},
   "outputs": [],
   "source": [
    "def model_predict(base, input):\n",
    "    if is_onnx:\n",
    "        pred = base.run(input)\n",
    "    else:\n",
    "        pred = base.run(base.graph.get_operation_by_name(model.op.name).outputs[0], {base.graph.get_operations()[0].name + ':0': input})\n",
    "    return pred\n",
    "\n",
    "sess = tf.Session()\n",
    "#sess = None\n",
    "# refactor this out of this method\n",
    "if is_onnx:\n",
    "    runnable = rt.prepare(model, 'CPU')\n",
    "elif sess is None:\n",
    "    config = tf.ConfigProto(device_count={'GPU': 0})\n",
    "    runnable = tf.Session(config=config)\n",
    "else:\n",
    "    runnable = sess\n",
    "\n"
   ]
  },
  {
   "cell_type": "code",
   "execution_count": 10,
   "id": "2c1bca14",
   "metadata": {},
   "outputs": [
    {
     "name": "stdout",
     "output_type": "stream",
     "text": [
      "[[50.50049533  1.64337118  9.46747401  0.          0.          0.\n",
      "   0.          0.         41.51733587  5.37219362]]\n"
     ]
    }
   ],
   "source": [
    "image_vv = np.array(image_v, dtype=np.double)\n",
    "pred = model_predict(runnable, image_vv)\n",
    "\n",
    "print(pred)"
   ]
  },
  {
   "cell_type": "code",
   "execution_count": null,
   "id": "a5faf497",
   "metadata": {},
   "outputs": [],
   "source": [
    "def normalize(image, means, stds, dataset):\n",
    "    # normalization taken out of the network\n",
    "    if len(means) == len(image):\n",
    "        for i in range(len(image)):\n",
    "            image[i] -= means[i]\n",
    "            if stds!=None:\n",
    "                image[i] /= stds[i]\n",
    "    elif dataset == 'mnist'  or dataset == 'fashion':\n",
    "        for i in range(len(image)):\n",
    "            image[i] = (image[i] - means[0])/stds[0]\n",
    "    elif(dataset=='cifar10'):\n",
    "        count = 0\n",
    "        tmp = np.zeros(3072)\n",
    "        for i in range(1024):\n",
    "            tmp[count] = (image[count] - means[0])/stds[0]\n",
    "            count = count + 1\n",
    "            tmp[count] = (image[count] - means[1])/stds[1]\n",
    "            count = count + 1\n",
    "            tmp[count] = (image[count] - means[2])/stds[2]\n",
    "            count = count + 1\n",
    "\n",
    "        \n",
    "        is_gpupoly = False\n",
    "        if is_conv and not is_gpupoly:\n",
    "            for i in range(3072):\n",
    "                image[i] = tmp[i]\n",
    "            #for i in range(1024):\n",
    "            #    image[i*3] = tmp[i]\n",
    "            #    image[i*3+1] = tmp[i+1024]\n",
    "            #    image[i*3+2] = tmp[i+2048]\n",
    "        else:\n",
    "            count = 0\n",
    "            for i in range(1024):\n",
    "                image[i] = tmp[count]\n",
    "                count = count+1\n",
    "                image[i+1024] = tmp[count]\n",
    "                count = count+1\n",
    "                image[i+2048] = tmp[count]\n",
    "                count = count+1\n",
    "\n",
    "                \n",
    "means = [0.5, 0.5, 0.5]\n",
    "stds = [1, 1, 1]\n",
    "normalize(image_v, means, stds, dataset)"
   ]
  },
  {
   "cell_type": "code",
   "execution_count": null,
   "id": "86703058",
   "metadata": {},
   "outputs": [],
   "source": [
    "if not is_trained_with_pytorch:\n",
    "    if dataset == 'mnist' and not config.geometric:\n",
    "        means = [0]\n",
    "        stds = [1]\n",
    "    elif dataset == 'acasxu':\n",
    "\n",
    "    elif dataset == \"cifar10\":\n",
    "        means = [0.4914, 0.4822, 0.4465]\n",
    "        stds = [0.2023, 0.1994, 0.2010]\n",
    "    else:\n",
    "        means = [0.5, 0.5, 0.5]\n",
    "        stds = [1, 1, 1]\n",
    "\n",
    "\n"
   ]
  },
  {
   "cell_type": "code",
   "execution_count": null,
   "id": "086b98c3",
   "metadata": {},
   "outputs": [],
   "source": [
    "pred = model_predict(runnable, image_v)\n",
    "print(pred)"
   ]
  },
  {
   "cell_type": "code",
   "execution_count": null,
   "id": "e08cf20a",
   "metadata": {},
   "outputs": [],
   "source": [
    "\n",
    "num_flows =  2* num_pixels\n",
    "delta = 0.02\n",
    "\n",
    "\n",
    "specLB = image.clone().permute(0, 2, 3, 1).flatten().cpu() -delta\n",
    "specUB = image.clone().permute(0, 2, 3, 1).flatten().cpu() +delta\n",
    "\n",
    "flows_LB = torch.full((num_flows,), -delta).to('cpu')\n",
    "flows_UB = torch.full((num_flows,), delta).to('cpu')\n",
    "\n",
    "speLB = torch.cat((specLB, flows_LB))\n",
    "speUB = torch.cat((specUB, flows_UB))"
   ]
  },
  {
   "cell_type": "code",
   "execution_count": null,
   "id": "0561bf94",
   "metadata": {},
   "outputs": [],
   "source": [
    "#deepzono\n",
    "# execute_list_deepzono, output_info_deepzono = optimizer.get_deepzono(nn, specLB , specUB )\n",
    "# use_dict =  optimizer.deepzono_get_dict(execute_list_deepzono)\n",
    "\n",
    "nn = layers()\n",
    "\n",
    "#deeppoly\n",
    "lexpr_weights= None\n",
    "lexpr_cst=None\n",
    "lexpr_dim=None\n",
    "uexpr_weights=None\n",
    "uexpr_cst=None\n",
    "uexpr_dim=None\n",
    "expr_size=0\n",
    "\n",
    "domain = 'deeppoly'\n",
    "timeout_lp = 100\n",
    "timeout_milp = 100\n",
    "timeout_final_lp=100\n",
    "timeout_final_milp=100\n",
    "\n",
    "use_default_heuristic = True\n",
    "output_constraints = False\n",
    "\n",
    "testing = False\n",
    "label= 8\n",
    "prop = 1\n",
    "spatial_constraints=None\n",
    "K=0\n",
    "s=0\n",
    "\n",
    "max_milp_neurons=10000\n",
    "approx_k=False\n",
    "\n",
    "execute_list_deeppoly, output_info_deeppoly =optimizer.get_deeppoly(nn, specLB, specUB, lexpr_weights, lexpr_cst, lexpr_dim, uexpr_weights, uexpr_cst, uexpr_dim, expr_size, spatial_constraints=None)\n",
    "\n",
    "output_info_deeppoly"
   ]
  },
  {
   "cell_type": "code",
   "execution_count": null,
   "id": "e38f26d3",
   "metadata": {},
   "outputs": [],
   "source": [
    "def get_abstractBigM(nn,ir_list,timeout_lp,timeout_milp):\n",
    "        \"\"\"\n",
    "        processes self.ir_list and returns the resulting abstract element\n",
    "        \"\"\"\n",
    "        man = fppoly_manager_alloc()\n",
    "        element = ir_list[0].transformer(man)\n",
    "        nlb = [0]\n",
    "        nub = [0]\n",
    "        testing_nlb = []\n",
    "        testing_nub = []\n",
    "        \n",
    "        domain = 'deeppoly'\n",
    "        \n",
    "        relu_groups = False\n",
    "        use_default_heuristic = True\n",
    "        testing = True\n",
    "        \n",
    "        \n",
    "        for i in range(1, len(ir_list)):\n",
    "            if type(ir_list[i]) in [DeeppolyReluNode,DeeppolySigmoidNode,DeeppolyTanhNode,DeepzonoRelu,DeepzonoSigmoid,DeepzonoTanh]:\n",
    "                element_test_bounds = ir_list[i].transformer(nn, man, element, nlb, nub,\n",
    "                                                                  relu_groups, 'refine' in domain,\n",
    "                                                                  timeout_lp, timeout_milp,\n",
    "                                                                  use_default_heuristic, testing,\n",
    "                                                                  K=1, s=1, use_milp=True,\n",
    "                                                                  approx=0)\n",
    "                print(\"1 :\")\n",
    "                \n",
    "            else:\n",
    "                element_test_bounds = ir_list[i].transformer(nn, man, element, nlb, nub,\n",
    "                                                                  relu_groups, 'refine' in domain,\n",
    "                                                                  timeout_lp, timeout_milp,\n",
    "                                                                  use_default_heuristic, testing)\n",
    "                print(\"2 :\")\n",
    "                \n",
    "\n",
    "            if testing and isinstance(element_test_bounds, tuple):\n",
    "                element, test_lb, test_ub = element_test_bounds\n",
    "                testing_nlb.append(test_lb)\n",
    "                testing_nub.append(test_ub)\n",
    "            else:\n",
    "                element = element_test_bounds\n",
    "        if domain in [\"refinezono\", \"refinepoly\"]:\n",
    "            gc.collect()\n",
    "        if testing:\n",
    "            return element, testing_nlb, testing_nub\n",
    "        return element, nlb, nub"
   ]
  },
  {
   "cell_type": "code",
   "execution_count": null,
   "id": "58118dad",
   "metadata": {},
   "outputs": [],
   "source": [
    "timeout_lp = 100\n",
    "timeout_milp = 100\n",
    "element, nlb, nub = get_abstractBigM(nn,execute_list_deeppoly,timeout_lp,timeout_milp)\n"
   ]
  },
  {
   "cell_type": "code",
   "execution_count": null,
   "id": "ea760eb9",
   "metadata": {},
   "outputs": [],
   "source": [
    "print('This network has ' + str(optimizer.get_neuron_count()) + ' neurons.')\n",
    "\n",
    "for i in range(nn.numlayer):\n",
    "    print(nn.layertypes[i])\n",
    "    "
   ]
  },
  {
   "cell_type": "code",
   "execution_count": null,
   "id": "e950a517",
   "metadata": {},
   "outputs": [],
   "source": [
    "\n",
    "#execute_list = execute_list_deeppoly\n",
    "#analyzer = Analyzer(execute_list, nn, domain, timeout_lp, timeout_milp, output_constraints,\n",
    "#                                use_default_heuristic, label, prop, testing, K=K, s=s,\n",
    "#                                timeout_final_lp=timeout_final_lp, timeout_final_milp=timeout_final_milp,\n",
    "#                                use_milp=use_milp, complete=complete,\n",
    "#                                partial_milp=partial_milp, max_milp_neurons=max_milp_neurons)\n",
    "#terminate_on_failure= True\n",
    "#dominant_class, nlb, nub, failed_labels, x = analyzer.analyze(terminate_on_failure=terminate_on_failure)\n",
    "\n",
    "    \n",
    "#print(failed_labels)\n",
    "#print(x)\n",
    "#print(dominant_class)"
   ]
  },
  {
   "cell_type": "code",
   "execution_count": null,
   "id": "c06173ca",
   "metadata": {},
   "outputs": [],
   "source": [
    "#milp_activation_layers = np.nonzero([l in [\"ReLU\", \"Maxpool\"] for l in nn.layertypes])[0]\n",
    "#partial_milp = 0\n",
    "#### Determine whcich layers, if any to encode with MILP\n",
    "#if partial_milp < 0:\n",
    "#    partial_milp = len(milp_activation_layers)\n",
    "#first_milp_layer = len(nn.layertypes) if partial_milp == 0 else milp_activation_layers[-min(partial_milp, len(milp_activation_layers))]\n",
    "\n",
    "#first_milp_layer"
   ]
  },
  {
   "cell_type": "code",
   "execution_count": null,
   "id": "62beaadf",
   "metadata": {},
   "outputs": [],
   "source": [
    "\n",
    "relu_groups = None\n",
    "use_milp=True\n",
    "complete=True\n",
    "partial_milp=False\n",
    "is_nchw=False\n",
    "partial_milp=2\n",
    "max_milp_neurons = 1000\n",
    "\n",
    "counter, var_list, model = create_model(nn, specLB, specUB, nlb, nub, relu_groups, nn.numlayer, use_milp, is_nchw, partial_milp, max_milp_neurons)\n",
    "\n",
    "num_var = len(var_list)\n",
    "output_size = num_var - counter\n",
    "#model.write(\"model_refinepoly.lp\")"
   ]
  },
  {
   "cell_type": "code",
   "execution_count": null,
   "id": "7513692b",
   "metadata": {},
   "outputs": [],
   "source": [
    "adv_label = 5\n",
    "\n",
    "obj = LinExpr()\n",
    "obj += 1 * var_list[counter + label]\n",
    "obj += -1 * var_list[counter + adv_label]\n",
    "model.setObjective(obj, GRB.MINIMIZE)\n",
    "\n",
    "#model.addConstr( var_list[counter + adv_label] >= var_list[counter + label] )\n",
    "#model.addConstr( var_list[counter + adv_label] >= var_list[counter + 0] )\n",
    "#model.addConstr( var_list[counter + adv_label] >= var_list[counter + 1] )\n",
    "#model.addConstr( var_list[counter + adv_label] >= var_list[counter + 2] )\n",
    "#model.addConstr( var_list[counter + adv_label] >= var_list[counter + 3] )\n",
    "#model.addConstr( var_list[counter + adv_label] >= var_list[counter + 4] )\n",
    "#model.addConstr( var_list[counter + adv_label] >= var_list[counter + 5] )\n",
    "#model.addConstr( var_list[counter + adv_label] >= var_list[counter + 6] )\n",
    "#model.addConstr( var_list[counter + adv_label] >= var_list[counter + 7] )\n",
    "#model.addConstr( var_list[counter + adv_label] >= var_list[counter + 8] )\n",
    "#model.addConstr( var_list[counter + adv_label] >= var_list[counter + 9] )\n"
   ]
  },
  {
   "cell_type": "code",
   "execution_count": null,
   "id": "0e129fa2",
   "metadata": {
    "scrolled": true
   },
   "outputs": [],
   "source": [
    "#expr_qp= QuadExpr()\n",
    "\n",
    "#for i in range(num_pixels):\n",
    "#    expr_qp.add(var_list[i] * var_list[i] - 2*image_v[i] * var_list[i] + image_v[i]*image_v[i]) \n",
    "\n",
    "## Set objective\n",
    "#model.setObjective(expr_qp, GRB.MINIMIZE)"
   ]
  },
  {
   "cell_type": "code",
   "execution_count": null,
   "id": "88466561",
   "metadata": {},
   "outputs": [],
   "source": [
    "model.setParam(\"OutputFlag\",1)\n",
    "model.setParam(\"TimeLimit\", 100)\n",
    "model.optimize()"
   ]
  },
  {
   "cell_type": "code",
   "execution_count": null,
   "id": "fd04668c",
   "metadata": {},
   "outputs": [],
   "source": [
    "sol_count = f\"{model.solcount:d}\" if hasattr(model, \"solcount\") else \"None\"\n",
    "obj_bound = f\"{model.objbound:.4f}\" if hasattr(model, \"objbound\") else \"failed\"\n",
    "obj_val = f\"{model.objval:.4f}\" if hasattr(model, \"objval\") else \"failed\"     \n",
    "\n",
    "print(f\"MILP model status: {model.Status}, Model solution count: {sol_count}, Final solve time: {model.Runtime:.3f}, Final objval : {obj_val} \")\n",
    "       "
   ]
  },
  {
   "cell_type": "code",
   "execution_count": null,
   "id": "f0f2a3f8",
   "metadata": {},
   "outputs": [],
   "source": [
    "if model.solcount > 0:\n",
    "    adv_examples = [model.x[0:num_pixels]]\n",
    "    output_model = [model.x[counter:num_var]]"
   ]
  },
  {
   "cell_type": "code",
   "execution_count": null,
   "id": "3ccf61a8",
   "metadata": {},
   "outputs": [],
   "source": [
    "print(label)\n",
    "print(adv_label)\n",
    "print(output_model)"
   ]
  },
  {
   "cell_type": "code",
   "execution_count": null,
   "id": "c30b0a71",
   "metadata": {},
   "outputs": [],
   "source": [
    "adv_examples_img = torch.from_numpy(np.float64(adv_examples)).reshape(1, height, width, channels).permute(0, 3, 1, 2).to('cpu')\n",
    "plot_attack_pred(image, adv_examples_img)"
   ]
  },
  {
   "cell_type": "code",
   "execution_count": null,
   "id": "425e942b",
   "metadata": {},
   "outputs": [],
   "source": [
    "image- adv_examples_img"
   ]
  },
  {
   "cell_type": "code",
   "execution_count": null,
   "id": "20fe883f",
   "metadata": {},
   "outputs": [],
   "source": []
  },
  {
   "cell_type": "code",
   "execution_count": null,
   "id": "132d7ca8",
   "metadata": {},
   "outputs": [],
   "source": []
  }
 ],
 "metadata": {
  "kernelspec": {
   "display_name": "Python 3 (ipykernel)",
   "language": "python",
   "name": "python3"
  },
  "language_info": {
   "codemirror_mode": {
    "name": "ipython",
    "version": 3
   },
   "file_extension": ".py",
   "mimetype": "text/x-python",
   "name": "python",
   "nbconvert_exporter": "python",
   "pygments_lexer": "ipython3",
   "version": "3.7.16"
  }
 },
 "nbformat": 4,
 "nbformat_minor": 5
}
